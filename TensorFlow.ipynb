{
 "cells": [
  {
   "cell_type": "markdown",
   "metadata": {},
   "source": [
    "# TensorFlow"
   ]
  },
  {
   "cell_type": "markdown",
   "metadata": {},
   "source": [
    "## Temel Giriş"
   ]
  },
  {
   "cell_type": "markdown",
   "metadata": {
    "collapsed": false
   },
   "source": [
    "### !!!ÖNEMLİ(anlatımda (Proje Anlatım) başlığı altında proje kısmına gire kütüphaneler anlatılmıştır genel anlatım ise aşağıdaki gibi devam etmektedir ve ayrıca kod açıklama satırları bazılarında yok çünkü altında hepsini detaylı olarak açıkladık ama yinede proje kodunun açıklama satırlarıyla beraber herşeyine en altta yer verdik)"
   ]
  },
  {
   "cell_type": "markdown",
   "metadata": {},
   "source": [
    "TensorFlow, grafik tabanlı hesaplama için genel amaçlı bir sistemdir. Tipik bir kullanım makine öğrenmesidir. Bu defterde, bazı basit örnekleri kullanarak TensorFlow'un temel kavramlarını tanıtacağız.\n",
    "\n",
    "TensorFlow ismini, keyfi boyutsallık dizileri olan tensörlerden alır. Bir vektör 1-boyutlu bir dizidir ve 1. dereceden tensör olarak bilinir. Bir matris, 2-boyutlu bir dizi ve 2. derece tensördür. \"Akış\", bir grafik vasıtasıyla akan hesaplamanın adını belirtir. Bu yazıda, bir sinir ağı için yeni bir sinir ağı modeli önermekteyiz.\n",
    "\n",
    "TensorFlow'da işler yapmayı düşündüğünüzde, tensörler (matrisler gibi) oluşturmayı, işlemler eklemeyi (diğer tansörleri çıkarır) ve ardından hesaplamayı (hesaplama grafiğini çalıştırarak) yürütmeyi düşünebilirsiniz. Özellikle, tensörler üzerinde bir işlem eklediğinizde derhal yürümeyeceğini anlamanız önemlidir. Aksine, TensorFlow gerçekleştirmek istediğiniz tüm işlemleri yerine getirmenizi bekler. Daha sonra TensorFlow, hesaplama grafiğini optimize eder, hesaplamanın nasıl yürütüleceğine karar verir ve verileri üretir. Bu nedenle, TensorFlow'daki bir tensör, veriyi tutan bir yer tutucu olarak çok fazla veri tutmamakta, bir hesaplama gerçekleştirildiğinde verilerin gelmesini beklemektedir."
   ]
  },
  {
   "cell_type": "markdown",
   "metadata": {},
   "source": [
    "## TensorFlow'da iki vektör ekleme"
   ]
  },
  {
   "cell_type": "markdown",
   "metadata": {},
   "source": [
    "$\\begin{bmatrix} 1. & 1. & 1. & 1.\\end{bmatrix} + \\begin{bmatrix} 2. & 2. & 2. & 2.\\end{bmatrix} = \\begin{bmatrix} 3. & 3. & 3. & 3.\\end{bmatrix}$"
   ]
  },
  {
   "cell_type": "code",
   "execution_count": null,
   "metadata": {
    "collapsed": true
   },
   "outputs": [],
   "source": [
    "from __future__ import print_function\n",
    "\n",
    "import tensorflow as tf\n",
    "\n",
    "with tf.Session():\n",
    "    input1 = tf.constant([1.0, 1.0, 1.0, 1.0])\n",
    "    input2 = tf.constant([2.0, 2.0, 2.0, 2.0])\n",
    "    output = tf.add(input1, input2)\n",
    "    result = output.eval()\n",
    "    print(\"result: \", result)"
   ]
  },
  {
   "cell_type": "markdown",
   "metadata": {},
   "source": [
    "+ Yaptığımız şey, [1.0, 1.0, 1.0, 1.0] ve [2.0, 2.0, 2.0, 2.0] gibi iki vektör oluşturmak ve bunları eklemektir."
   ]
  },
  {
   "cell_type": "markdown",
   "metadata": {},
   "source": [
    "# TensorFlow'da iki vektör ekleme ayrıntıları"
   ]
  },
  {
   "cell_type": "markdown",
   "metadata": {},
   "source": [
    "+  eval()\n",
    "+  add()\n",
    "+  constant()\n",
    "+  Session()"
   ]
  },
  {
   "cell_type": "markdown",
   "metadata": {},
   "source": [
    "Yukarıdaki iki vektör ekleme örneği, göründüğünden daha fazlasını içerir, bu yüzden daha derinlemesine bakalım.\n",
    "\n",
    "import tensorflow as tf\n",
    "\n",
    "Bu içe aktarma, TensorFlow'un ortak API'lerini IPython çalışma zamanı ortamımıza getirir.\n",
    "\n",
    "tf.Session () ile:\n",
    "\n",
    "TensorFlow'da bir işlemi çalıştırdığınızda, bunu bir Oturum bağlamında yapmanız gerekir. Bir oturum, tensörleri ve işlemleri içeren hesaplama grafiğini tutar. Tensörler ve işlemler oluşturduğunuzda, bunlar derhal yürütülmez, ancak grafiğe diğer işlemlerin ve tensörlerin eklenmesini bekler, yalnızca nihayet oturumun sonuçlarını üretmesi istenirse yürütülür. TensorFlow, operasyonları nasıl birleştireceğine ve TensorFlow tüm işlemleri bildikten sonra nereye götüreceğine karar verebildiği için, yürütmeyi bu şekilde paralelleştirme ve optimizasyon için ertelemek mümkün.\n",
    "\n",
    "\n",
    "\n",
    "Input1 = tf.constant ([1.0, 1.0, 1.0, 1.0])\n",
    "\n",
    "Input2 = tf.constant ([2.0, 2.0, 2.0, 2.0])\n",
    "\n",
    "Sonraki iki satır, sabit olarak adlandırılan ve numpy'nin dizisine benzer ve numpy'nin tam olduğu tensörler oluşturarak tensörler oluşturur. Sabit koda bakarsanız, tensörü oluşturmak için ne yaptıklarının ayrıntılarını görebilirsiniz. Özetle, gerekli şekil için bir tensör oluşturur ve sağlanan değerlerle doldurmak için sabit işleci uygular. Sabit değerler Python veya numpy dizileri olabilir. Constant, sağlandığında numpy'nin doldurmasına benzer şekilde çalışan isteğe bağlı bir şekil parametresini ve TensorFlow işlem grafiğinde operasyon üzerinde daha güzel şekilde okunabilir bir etiket koymak için kullanılabilen isteğe bağlı bir isim parametresini alabilir.\n",
    "\n",
    "\n",
    "Çıktı = tf.add (giriş1, giriş2)\n",
    "\n",
    "Eklemenin şimdi iki vektörü şimdi eklediğini düşünebilirsiniz, ancak bunu tam olarak yapmaz. Yaptığı işlem, hesaplama grafiğine add işlemi koymaktır. Ekleme sonuçları henüz mevcut değil. Hesaplama grafiğine girdiler, ancak hesaplama grafiği henüz yürütülmedi.\n",
    "\n",
    "\n",
    "\n",
    "Result = çıktı.eval ()\n",
    "\n",
    "Sonuç yazdır\n",
    "\n",
    "Eval () da göründüğünden biraz daha karmaşıktır. Evet, eklemeden kaynaklanan vektörün (tensör) değerini alıyor. Bunu, daha sonra yazdırılacak numpy dizisi olarak döndürür. Ancak, hesaplama grafiğini bu noktada da gerçekleştirdiğinin farkında olmak önemlidir çünkü grafik işlem düğümünden çıktı istiyorduk; Bunu üretmek için hesaplama grafiğini çalıştırmak zorundaydı. Yani, eklentinin gerçekte yapıldığı değil, eklendiğinde değil, ekleme işlemi TensorFlow hesaplama grafiğine yerleştirildiğinde budur."
   ]
  },
  {
   "cell_type": "markdown",
   "metadata": {},
   "source": [
    "# Birden fazla işlem"
   ]
  },
  {
   "cell_type": "markdown",
   "metadata": {},
   "source": [
    "TensorFlow'u kullanmak için, hesaplama grafiğine tensörler üreten tensörler üzerine işlemler ekledikten sonra, bu işlemleri gerçekleştirmek için bu grafiği çalıştırın ve grafideki tüm tensörlerin değerlerini hesaplayabiliriz.\n",
    "\n",
    "İki işlemi içeren basit bir örnek:"
   ]
  },
  {
   "cell_type": "code",
   "execution_count": null,
   "metadata": {
    "collapsed": true
   },
   "outputs": [],
   "source": [
    "import tensorflow as tf\n",
    "\n",
    "with tf.Session():\n",
    "    input1 = tf.constant(1.0, shape=[4])\n",
    "    input2 = tf.constant(2.0, shape=[4])\n",
    "    input3 = tf.constant(3.0, shape=[4])\n",
    "    output = tf.add(tf.add(input1, input2), input3)\n",
    "    result = output.eval()\n",
    "    print(result)"
   ]
  },
  {
   "cell_type": "markdown",
   "metadata": {},
   "source": [
    "Bu sürüm, numpy'nin doldurmasına benzer şekilde sabit kullanır, isteğe bağlı şekli belirtir ve üzerinde kopyalanan değerleri elde eder.\n",
    "\n",
    "Add operatörü operatör aşırı yüklemeyi destekler; dolayısıyla, input1 + input2 olarak satır içi yazmayı deneyebilir, diğer operatörler ile deneme yapabilirsiniz."
   ]
  },
  {
   "cell_type": "code",
   "execution_count": null,
   "metadata": {
    "collapsed": true
   },
   "outputs": [],
   "source": [
    "with tf.Session():\n",
    "    input1 = tf.constant(1.0, shape=[4])\n",
    "    input2 = tf.constant(2.0, shape=[4])\n",
    "    output = input1 + input2\n",
    "    print(output.eval())"
   ]
  },
  {
   "cell_type": "markdown",
   "metadata": {},
   "source": [
    "# İki matris ekleme"
   ]
  },
  {
   "cell_type": "markdown",
   "metadata": {},
   "source": [
    "İki matris ekleyerek çok benzer bir şey yapalım:"
   ]
  },
  {
   "cell_type": "markdown",
   "metadata": {},
   "source": [
    "$\\begin{bmatrix}\n",
    "  1. & 1. & 1. \\\\\n",
    "  1. & 1. & 1. \\\\\n",
    "\\end{bmatrix} + \n",
    "\\begin{bmatrix}\n",
    "  1. & 2. & 3. \\\\\n",
    "  4. & 5. & 6. \\\\\n",
    "\\end{bmatrix} = \n",
    "\\begin{bmatrix}\n",
    "  2. & 3. & 4. \\\\\n",
    "  5. & 6. & 7. \\\\\n",
    "\\end{bmatrix}$"
   ]
  },
  {
   "cell_type": "code",
   "execution_count": null,
   "metadata": {
    "collapsed": true
   },
   "outputs": [],
   "source": [
    "import tensorflow as tf\n",
    "import numpy as np\n",
    "\n",
    "with tf.Session():\n",
    "    input1 = tf.constant(1.0, shape=[2, 3])\n",
    "    input2 = tf.constant(np.reshape(np.arange(1.0, 7.0, dtype=np.float32), (2, 3)))\n",
    "    output = tf.add(input1, input2)\n",
    "    print(output.eval())"
   ]
  },
  {
   "cell_type": "markdown",
   "metadata": {},
   "source": [
    "Numpy veya Python dizilerini sabit hale getirebileceğinizi hatırlayın.\n",
    "\n",
    "Bu örnekte, 1 ile 6 arasındaki değerlere sahip matris numpy'de oluşturulmuş ve sabit haline getirilmiş, ancak TensorFlow da range, reshape ve tofloat operatörlerine sahiptir. TensorFlow içinde bunu tamamen yapmak, bunun çok büyük bir matris olması durumunda daha verimli olabilirdi.\n",
    "\n",
    "Bu kodla biraz deney yapmayı denedik belki değerlerin bazılarını değiştirerek, numpy sürümünü kullanarak, bunu kullanarak yaparak, başka bir işlem ekleyerek veya TensorFlow'un aralık işlevini kullanarak bunu denedik."
   ]
  },
  {
   "cell_type": "markdown",
   "metadata": {},
   "source": [
    "# Matriste Çarpma"
   ]
  },
  {
   "cell_type": "markdown",
   "metadata": {},
   "source": [
    "Şimdi matris çarpımına geçelim. Bu sefer, biraz vektör ve bazı rastgele değerler kullanalım; bu, regresyon ve sinir ağları için yapmamız gereken bazı şeylere doğru iyi bir adımdır."
   ]
  },
  {
   "cell_type": "code",
   "execution_count": null,
   "metadata": {
    "collapsed": true
   },
   "outputs": [],
   "source": [
    "import tensorflow as tf\n",
    "import numpy as np\n",
    "\n",
    "with tf.Session():\n",
    "    input_features = tf.constant(np.reshape([1, 0, 0, 1], (1, 4)).astype(np.float32))\n",
    "    weights = tf.constant(np.random.randn(4, 2).astype(np.float32))\n",
    "    output = tf.matmul(input_features, weights)\n",
    "    print(\"Input:\")\n",
    "    print(input_features.eval())\n",
    "    print(\"Weights:\")\n",
    "    print(weights.eval())\n",
    "    print(\"Output:\")\n",
    "    print(output.eval())"
   ]
  },
  {
   "cell_type": "markdown",
   "metadata": {},
   "source": [
    "Yukarıda, 1 x 4 vektör [1 0 0 1] alıyoruz ve normal bir dağılımdan rastgele değerlerle dolu 4 x 2 matrisi çarpıyoruz (ortalama 0, standart 1). Çıktı, 1 x 2 matristir.\n",
    "\n",
    "Bu örneği değiştirmeyi deneyebilirsiniz. Hücrenin birden çok kez çalıştırılması yeni rastgele ağırlıkları ve yeni bir çıktı üretecektir. Veya girdiyi değiştirin, örneğin [0 0 0 1]) ve hücrenizi tekrar çalıştırın. Veya rasgele ağırlıkları oluşturmak için numpy kullanılmak yerine TensorFlow op, ör. Random_normal kullanılarak ağırlıkları başlatmayı deneyin.\n",
    "\n",
    "Elimizde basit bir sinir ağının temelleri zaten var. Giriş özelliklerini, beklenen bazı çıktılarla birlikte okuyor ve her seferinde çıktıktan sonraki hatayla ağırlıkları değiştirirsek, bu bir sinir ağıdır."
   ]
  },
  {
   "cell_type": "markdown",
   "metadata": {},
   "source": [
    "# Değişkenlerin kullanımı\n",
    "+ Variables()"
   ]
  },
  {
   "cell_type": "markdown",
   "metadata": {},
   "source": [
    "Her döngüde iki yeni matris ekleyerek değil, her seferinde yeni tensörler oluşturarak değil, mevcut değerleri güncelleyerek ve daha sonra hesaplama grafiğini yeni veriler üzerinde yeniden çalıştırarak inceleyelim. Bu, her seferinde bazı ağırlıklarda eğim iniş gibi bazı parametreleri değiştirmek ve daha sonra aynı hesaplamaları tekrar tekrar gerçekleştirmek için makine öğrenme modelleriyle çok şey olur."
   ]
  },
  {
   "cell_type": "code",
   "execution_count": null,
   "metadata": {
    "collapsed": true
   },
   "outputs": [],
   "source": [
    "import tensorflow as tf\n",
    "import numpy as np\n",
    "\n",
    "with tf.Session() as sess:\n",
    "    # Tekrar tekrar değiştireceğimiz toplam ve ağırlık olmak üzere iki değişken ayarlayın\n",
    "    total = tf.Variable(tf.zeros([1, 2]))\n",
    "    weights = tf.Variable(tf.random_uniform([1,2]))\n",
    "\n",
    "     # Yukarıda tanımladığımız değişkenleri başlatır.\n",
    "    tf.global_variables_initializer().run()\n",
    "\n",
    "    # Bu yalnızca operatörleri grafiğe şimdi ekler. Görev\n",
    "     # Ve ekleme işlemleri henüz gerçekleştirilmedi.\n",
    "    update_weights = tf.assign(weights, tf.random_uniform([1, 2], -1.0, 1.0))\n",
    "    update_total = tf.assign(total, tf.add(total, weights))\n",
    "  \n",
    "    for _ in range(5):\n",
    "         # Aslında işlem grafiğini çalıştırın, böylece rastgele ağırlık üretin ve sonra\n",
    "         # Toplama ekleyin. Emir burada önemli. Güncellenmeliyiz\n",
    "        # Toplamı güncellemeden önce ağırlıkları.\n",
    "        sess.run(update_weights)\n",
    "        sess.run(update_total)\n",
    "    \n",
    "        print(weights.eval(), total.eval())"
   ]
  },
  {
   "cell_type": "markdown",
   "metadata": {},
   "source": [
    "Bu daha karmaşıktır. Yüksek düzeyde, iki değişken oluşturuyor ve bunlara işlemler ekliyoruz, sonra bir döngüde bu işlemleri tekrar tekrar yürütüyoruz. Adım adım ilerleyelim.\n",
    "\n",
    "Başlangıç ​​olarak, kod toplam ve ağırlık olmak üzere iki değişken oluşturur. Toplam [0, 0] olarak başlatılır ve ağırlıklar -1 ile 1 arasındaki rastgele değerlere başlatılır.\n",
    "\n",
    "Daha sonra, grafiğe, [-1, 1] rastgele değerlerle ağırlıkları güncelleyen ve toplamı yeni ağırlıklarla güncelleyen iki atama işleci eklenir. Yine burada operatörler idam edilmiyor. Aslında, bu bile döngü içinde değil. Bu işlemler, eval çağrısı döngü içinde gerçekleşene kadar yürütülmeyecektir.\n",
    "\n",
    "Son olarak, for döngüsünde, operatörlerin her birini çalıştırıyoruz. Döngünün her yinelemesinde, önce eklediğimiz operatörleri çalıştırır, ilk önce rastgele değerleri ağırlıklara koyar, sonra toplamları yeni ağırlıklarla güncelleriz. Bu çağrı, oturumda eval kullanıyor; Kod da operatörler üzerinde eval çağrısı yapmış olabilir (ör. Update_weights.eval).\n",
    "\n",
    "Başınızı tam olarak hesaplamanın yapıldığı yere sarmak biraz zor olabilir. Hatırlanması gereken en önemli şey, hesaplamanın yalnızca talep üzerine gerçekleştirilmesidir.\n",
    "\n",
    "Değişkenler, her seferinde girdiye ufak bir değişiklik yaparak tekrar tekrar kullanmak istediğiniz çok miktarda hesaplama ve verilere sahip olduğunuz durumlarda yararlı olabilir. Bu, sinir ağlarıyla biraz olur, örneğin, girdi veri yığınlarını her geçtiğinde ağırlıkları güncellemek istediğinizde, aynı işlemleri tekrar tekrar çalıştırmak istediğinizde."
   ]
  },
  {
   "cell_type": "markdown",
   "metadata": {},
   "source": [
    "# PROJE ANLATIMI"
   ]
  },
  {
   "cell_type": "markdown",
   "metadata": {},
   "source": [
    "### Mnist ve input_data"
   ]
  },
  {
   "cell_type": "markdown",
   "metadata": {},
   "source": [
    "Resimlerin nasıl eğitileceğini bildirir. Görülen resmin ne olduğunu anlamak için bir data fonksiyonumuz diyebilirim.\n",
    "Bu fonksiyon aşağıdaki gibi programa import edilir "
   ]
  },
  {
   "cell_type": "code",
   "execution_count": null,
   "metadata": {
    "collapsed": false
   },
   "outputs": [],
   "source": [
    "from tensorflow.examples.tutorials.mnist import input_data"
   ]
  },
  {
   "cell_type": "markdown",
   "metadata": {},
   "source": [
    "Bu fonksiyon ile görülen resmin ne olduğunu anlamak için MNIST_DATA verilerini aktarım için aşağıdaki komut satırı işlev görür"
   ]
  },
  {
   "cell_type": "code",
   "execution_count": null,
   "metadata": {
    "collapsed": false
   },
   "outputs": [],
   "source": [
    "mnist = input_data.read_data_sets(\"MNIST_data/\", one_hot=True)"
   ]
  },
  {
   "cell_type": "markdown",
   "metadata": {},
   "source": [
    "MNIST verileri üç bölüme ayrılmıştır: 55.000 veri noktası eğitim verileri ( mnist.train), 10.000 puanlık test verileri ( mnist.test) ve 5.000 geçerlilik verileri noktası ( mnist.validation). Bu bölünme çok önemlidir: Makine öğrenmede, öğrendiğimiz şeylerin genelleştiğinden emin olabilmemiz için öğrenmediğimiz ayrı verilere sahip olduğumuz önemlidir!\n",
    "\n",
    "El yazısı ile yazılan bir rakam ve ilgili bir etiket. Resimleri \"x\" ve etiketleri \"y\" olarak adlandıracağız. Hem eğitim seti, hem de test seti görüntüleri ve bunlara karşılık gelen etiketleri içerir."
   ]
  },
  {
   "cell_type": "markdown",
   "metadata": {},
   "source": [
    "### Scipy.ndimage"
   ]
  },
  {
   "cell_type": "markdown",
   "metadata": {},
   "source": [
    "Numpy üzerine inşaa edilmiş olan scipy modülü lineer cebir konusunda bize birçok fonksiyon ve imkan sağlıyor.Kullanıldığı alanlardan bahsedecek olursak;\n",
    "+ Çok boyutlu konvolüsyon\n",
    "+ Verilen fonksiyonu kullanarak çok boyutlu bir filtre hesaplar\n",
    "+Sağlanan ikinci türev fonksiyonu kullanan N-boyutlu Laplace filtresi\n",
    "Bununun türevleri şeklinde devam eden kullanım alanlarından bize lazım olanı ise imread parametresi.\n",
    "Bu parametre kullanımı aşağıdaki gibidir"
   ]
  },
  {
   "cell_type": "code",
   "execution_count": null,
   "metadata": {
    "collapsed": true
   },
   "outputs": [],
   "source": [
    "cizim = np.vectorize(lambda x: 255 - x)(np.ndarray.flatten(scipy.ndimage.imread(\"sayi3.png\", flatten=True)))"
   ]
  },
  {
   "cell_type": "markdown",
   "metadata": {},
   "source": [
    "Burada yapılan çizimi alıyoruz.Yani paintte veya herhangi bir resim programında tasarımladığımız 28x28 piksel boyutuna ayarlayıp gerçekleştirdiğimiz çizimi cizim değişkenine aktarıyoruz.Bunu yukarıda bahsettiğim gibi görüntü işleme fonksiyonu ile yani scipy.ndimage.imread ile elde ediyoruz."
   ]
  },
  {
   "cell_type": "markdown",
   "metadata": {},
   "source": [
    "+ 28x28 lik bir çizim verimiz "
   ]
  },
  {
   "cell_type": "markdown",
   "metadata": {},
   "source": [
    "![](projeResim/sayi1.png)\n",
    "![](projeResim/sayi6.png)"
   ]
  },
  {
   "cell_type": "markdown",
   "metadata": {},
   "source": [
    "## scipy.ndimage kurulumu"
   ]
  },
  {
   "cell_type": "markdown",
   "metadata": {},
   "source": [
    "Python 3.3 sürümünde çalışan kodlar olup Numpy kütüphaneleri ile uyumludur. Ancak ilgili kütüphaneleri kurulu olduğu herhangi bir Python 3x sürümü kullanılmasının bir sıkıntı oluşturmayacağı kanaatindeyiz. Paketlerin yüklenmesi ile ilgili yönergeler için http://www.scipy.org sitesine göz atabilirsiniz. Windows kullanıcılarına kolaylık sağlamak amacıyla üçüncü şahıslar tarafından ikili(binary) dosyalar hazırlanıp ücretsiz olarak dağıtılabilmektedir."
   ]
  },
  {
   "cell_type": "markdown",
   "metadata": {
    "collapsed": true
   },
   "source": [
    "# tf.placeholder()"
   ]
  },
  {
   "cell_type": "code",
   "execution_count": null,
   "metadata": {
    "collapsed": true
   },
   "outputs": [],
   "source": [
    "x = tf.placeholder(tf.float32, [None, 784])"
   ]
  },
  {
   "cell_type": "markdown",
   "metadata": {},
   "source": [
    "x Belirli bir değer değildir. Bu placeholder, bir hesaplama çalıştırması için TensorFlow'dan sorduğumuzda girilecek bir değerdir. Her biri 784 boyutlu bir vektöre yansıtılan, herhangi bir sayıda MNIST görüntüsü girebilmek istiyoruz. Bunu, bir şekil ile kayan nokta sayılarının 2-D tensörü olarak temsil ederiz [None, 784]. (Bu None, bir boyutun herhangi bir uzunluğa sahip olabileceği anlamına gelir.)\n",
    "\n",
    "Modelimiz için ağırlık ve önyargılara da ihtiyacımız var. Biz bu gibi ek girişler düşünebiliriz, ama TensorFlow daha iyi bir yol var: Variable. A Variable, etkileşimli işlemler TensorFlow'un grafiğinde yaşayan değişebilir bir tensördür. Hesaplama ile kullanılabilir ve hatta değiştirilebilir. Makine öğrenme uygulamaları için, genelde model parametreleri Variables'dir."
   ]
  },
  {
   "cell_type": "code",
   "execution_count": null,
   "metadata": {
    "collapsed": true
   },
   "outputs": [],
   "source": [
    "W = tf.Variable(tf.zeros([784, 10]))\n",
    "b = tf.Variable(tf.zeros([10]))"
   ]
  },
  {
   "cell_type": "markdown",
   "metadata": {},
   "source": [
    "+ Variables dan yukarıdaki tanımalardada bahsetmiştik oyüzden şuan nasıl kullanıldığı hakkında ufak bilgi verelim"
   ]
  },
  {
   "cell_type": "raw",
   "metadata": {},
   "source": [
    "Biz Variable vererek s tf.Variable başlangıç değeri olarak oluşturduk. Variable: Bu durumda, her iki başlangıç W ve b sıfırların dolu tensörler oluşturmuş olduk.\n",
    "\n",
    "W[784, 10] bir şekle sahiptir biz fark sınıfları için kanıt 10 boyutlu vektörler üretmek için onun tarafından 784 boyutlu görüntü vektörleri çarpmak için bunu istiyoruz.Böylece çıktıya ekleyebiliriz.\n",
    "\n",
    "W değişkeni = optimum yani gerçek değere yaklaşabilmek için kullanılır. Ağırlık olarak nitelendirelebilir diye özetleyebiliriz.\n",
    "b ise varsayılan sıfır değeri atamak için kullanıldı."
   ]
  },
  {
   "cell_type": "markdown",
   "metadata": {},
   "source": [
    "### tf.nn.softmax() fonksiyonu"
   ]
  },
  {
   "cell_type": "code",
   "execution_count": null,
   "metadata": {
    "collapsed": false
   },
   "outputs": [],
   "source": [
    "y = tf.nn.softmax(tf.matmul(x, W) + b)"
   ]
  },
  {
   "cell_type": "markdown",
   "metadata": {},
   "source": [
    "Birkaç kısa kurulumdan sonra, modelimizi tanımlamak için yalnızca bir satır attık. TensorFlow, softmax regresyonunu özellikle kolaylaştırmak için tasarlandığından değil, makine öğrenme modellerinden fizik simülasyonlarına kadar birçok sayısal hesaplamayı tanımlamak için yalnızca çok esnek bir yol olarak kullanabiliriz. Ve bir kere tanımlandıktan sonra, modelimiz farklı aygıtlarda çalıştırılabilir: bilgisayarınızın CPU, GPU'ları ve hatta telefonlar da bile kullanabiliriz."
   ]
  },
  {
   "cell_type": "markdown",
   "metadata": {},
   "source": [
    "## placeholder() fonksiyonu ile hatayı en aza indirme"
   ]
  },
  {
   "cell_type": "code",
   "execution_count": null,
   "metadata": {
    "collapsed": false
   },
   "outputs": [],
   "source": [
    "y_ = tf.placeholder(tf.float32, [None, 10])\n",
    "cross_entropy = tf.reduce_mean(-tf.reduce_sum(y_ * tf.log(y), reduction_indices=[1]))"
   ]
  },
  {
   "cell_type": "markdown",
   "metadata": {},
   "source": [
    "Hatayı türev alarak düüşürülmeye çalışılır.cross_entropy düzensizlik demektir. Düzensizliği sıfıra getirene kadar kademeli düşürmesi sağlanır"
   ]
  },
  {
   "cell_type": "markdown",
   "metadata": {},
   "source": [
    "## tf.train fonskiyonu"
   ]
  },
  {
   "cell_type": "markdown",
   "metadata": {},
   "source": [
    "+ Adım adım verileri eğitir. Kademeli düşürme optimizasyonuna göre en uygu değeri bulmaya çalışır bizde projemizde optimizasyonu aşağıdaki gibi gerçekleştirdik"
   ]
  },
  {
   "cell_type": "code",
   "execution_count": null,
   "metadata": {
    "collapsed": true
   },
   "outputs": [],
   "source": [
    "train_step = tf.train.GradientDescentOptimizer(0.5).minimize(cross_entropy)"
   ]
  },
  {
   "cell_type": "markdown",
   "metadata": {},
   "source": [
    "## tf.InteractiveSession() fonksiyonu"
   ]
  },
  {
   "cell_type": "markdown",
   "metadata": {},
   "source": [
    "Bu fonksiyon ise modele ulaşmak için kullanılır.Kodun sürekli çalışması istendiği için bu fonksiyonu gerçekleştiririz."
   ]
  },
  {
   "cell_type": "markdown",
   "metadata": {},
   "source": [
    "+ Projemizde ise fonksiyonu aşağıdaki gibi kullandık"
   ]
  },
  {
   "cell_type": "code",
   "execution_count": null,
   "metadata": {
    "collapsed": true
   },
   "outputs": [],
   "source": [
    "sess = tf.InteractiveSession()"
   ]
  },
  {
   "cell_type": "markdown",
   "metadata": {},
   "source": [
    "## tf.equal() fonksiyonu"
   ]
  },
  {
   "cell_type": "markdown",
   "metadata": {},
   "source": [
    "Equal adında olduğu gibi omu değilmi eşit mi değilmi gibi soruların yanıtı almak için gerekli bir fonksiyon.\n",
    "Projemizde ise aşağıdaki gibi kullandık"
   ]
  },
  {
   "cell_type": "code",
   "execution_count": null,
   "metadata": {
    "collapsed": true
   },
   "outputs": [],
   "source": [
    "correct_prediction = tf.equal(tf.argmax(y, 1), tf.argmax(y_, 1))"
   ]
  },
  {
   "cell_type": "markdown",
   "metadata": {},
   "source": [
    "+ doğru tahmnini almak için 1-0 gibi değerler ürettik yukarıda gördüldüğü gibi."
   ]
  },
  {
   "cell_type": "markdown",
   "metadata": {},
   "source": [
    "## tf.reduce_mean() fonksiyonu"
   ]
  },
  {
   "cell_type": "markdown",
   "metadata": {},
   "source": [
    "Adı üstünde dizinimizin ortalamasını almak için gerekli fonksiyonumuz.\n",
    "Projemizdede aşağıdaki gibi bir kullanım gerçekleştirdik "
   ]
  },
  {
   "cell_type": "code",
   "execution_count": null,
   "metadata": {
    "collapsed": true
   },
   "outputs": [],
   "source": [
    "accuracy = tf.reduce_mean(tf.cast(correct_prediction, tf.float32))"
   ]
  },
  {
   "cell_type": "markdown",
   "metadata": {},
   "source": [
    "+ correct_prediction ortalaması doğruluk hesabını verir"
   ]
  },
  {
   "cell_type": "markdown",
   "metadata": {},
   "source": [
    "## Vee kodumuzdaki çalışmanın başarı oranı"
   ]
  },
  {
   "cell_type": "code",
   "execution_count": null,
   "metadata": {
    "collapsed": true
   },
   "outputs": [],
   "source": [
    "print(sess.run(accuracy, feed_dict={x: mnist.test.images, y_: mnist.test.labels}))"
   ]
  },
  {
   "cell_type": "markdown",
   "metadata": {},
   "source": [
    "Yukarıda tanımladığımız satır ile başarı oranımızı elde ettik ve yukarda anlattığım y ile y_ değişkenleriyle gerçekleştirdim.\n",
    "\n",
    "Yaklaşık olarak %91 lik bir başarı elde ediyoruz iyi mi ?fena değilçok basit bir model kullandığımız için  bazı küçük değişikliklerle bu oranı % 97'ye kadar çıkartabiliriz. En iyi modellemelerle ile % 99.7'den fazla doğruluk elde edebiliriz. "
   ]
  },
  {
   "cell_type": "markdown",
   "metadata": {},
   "source": [
    "## os kütüphanesi"
   ]
  },
  {
   "cell_type": "code",
   "execution_count": null,
   "metadata": {
    "collapsed": true
   },
   "outputs": [],
   "source": [
    "import os"
   ]
  },
  {
   "cell_type": "markdown",
   "metadata": {},
   "source": [
    "Yukarıdaki şekilde import edip CPU icin makine hizliligi hatasi gidermesi için kullandık."
   ]
  },
  {
   "cell_type": "code",
   "execution_count": null,
   "metadata": {
    "collapsed": true
   },
   "outputs": [],
   "source": [
    "os.environ['TF_CPP_MIN_LOG_LEVEL'] = '2'"
   ]
  },
  {
   "cell_type": "markdown",
   "metadata": {},
   "source": [
    "+ Yukarıda görüldüğü gibide basit bir kod satırı ile bu sorunu hallediyoruz"
   ]
  },
  {
   "cell_type": "markdown",
   "metadata": {},
   "source": [
    "## Serial kütüphanesi"
   ]
  },
  {
   "cell_type": "code",
   "execution_count": null,
   "metadata": {
    "collapsed": false
   },
   "outputs": [],
   "source": [
    "import serial"
   ]
  },
  {
   "cell_type": "markdown",
   "metadata": {},
   "source": [
    "Serial kütüphanesi arduino ile pythonu haberleştirmemiz gerekli olan bir kütüphanedir.Bu kütüphane ile python ve arduino gerekli haberleşmeleri belirledğimiz port üzerinden sağlayarak işlem gerçekleştirebiliyoruz."
   ]
  },
  {
   "cell_type": "markdown",
   "metadata": {},
   "source": [
    "### Haberleşleme sağlanacak port ?"
   ]
  },
  {
   "cell_type": "code",
   "execution_count": null,
   "metadata": {
    "collapsed": true
   },
   "outputs": [],
   "source": [
    "ser = serial.Serial('COM3', 9600,timeout=0)"
   ]
  },
  {
   "cell_type": "markdown",
   "metadata": {},
   "source": [
    "+ Haberleşme sağlanacak port aşağıdaki gibi serial.Serial() fonksiyonu ile belirlenip içindeki parametreler ise ilk parametre yani 'COM3' parametresi arduino hangi portta olduğu şeklinde ve 9600 ise hangi seri port üzerinden haberleşiceği şeklinde gerekli parametreleri vererek işlemi sağlıyoruz."
   ]
  },
  {
   "cell_type": "markdown",
   "metadata": {},
   "source": [
    "### Veriyi arduino ile haberleştirme"
   ]
  },
  {
   "cell_type": "code",
   "execution_count": null,
   "metadata": {
    "collapsed": true
   },
   "outputs": [],
   "source": [
    "sonuc = sess.run(tf.argmax(y, 1), feed_dict={x: [cizim]})\n",
    "data=np.str(sonuc)\n",
    "\n",
    "ser.write(bytes(data,encoding='ascii',errors='replace'))"
   ]
  },
  {
   "cell_type": "markdown",
   "metadata": {},
   "source": [
    "![](projeResim/resim1.jpeg)"
   ]
  },
  {
   "cell_type": "markdown",
   "metadata": {},
   "source": [
    "Yukarda görüldüğü üzere veri arduino ile haberleşti ama nasıl haberleşti sorusuna gelicek olursak.Öncelikle gönderilecek veri yukarıdaki gibi oncelikle data değişkenine str tipine dönüştürülerek tutuldu ve değer bytes tipinde türüde ascii şeklinde seriporta yazdırıldı bunun sebebide arduinoya anlık veri direkt olarak haberleştirilmiyor veri belleğe byte byte gonderıldiği için bunu ascii kodlarına göre integer veri olarak yollayarak sağladık bunuda arduinoda aşağıda verdiğim kod satırındaki gibi kontroolünü sağladık. "
   ]
  },
  {
   "cell_type": "code",
   "execution_count": null,
   "metadata": {
    "collapsed": true
   },
   "outputs": [],
   "source": [
    "#if (Serial.available() > 0)\n",
    " # {\n",
    "  #  int x = Serial.read();\n",
    "   # if (x == 48) {\n",
    "    #  lcd.print(\"0\");\n",
    "     # lcd.setCursor(0, 1);\n",
    "     # delay(2000);\n",
    "     # lcd.write(\"Buldum=\");\n",
    "     # lcd.setCursor(8, 1);\n",
    "     # lcd.write(x);\n",
    "     # lcd.setCursor(10, 1);\n",
    "     # lcd.write(\":)\");\n",
    "     # exit(0);\n",
    "\n",
    "    #}"
   ]
  },
  {
   "cell_type": "markdown",
   "metadata": {},
   "source": [
    "(Ardunio tarafındaki kod olduğu için açıklama satırına aldım)Burada ise görüldüğü gibi benim sonuc değişkenime dönücek veri örneğin 0 ise yukarında arduinoda bunu öncelikle serial.avaible() ile veri varmı diye kontrol edip veri varsa bu veriyi serial.read() ile okuyup bu değeri ascii ile yolladığımızdan ascii de ise örnek verdiğim veri bufferda 48 olarak saklandığından okuduğum x değerini (x==48) mi olarak kontrol edip öyle ise arduino lcd ekranımıza 0 olarak yansıtıyoruz."
   ]
  },
  {
   "cell_type": "markdown",
   "metadata": {},
   "source": [
    "## Uygulamada  tahmin oyunu kısmı"
   ]
  },
  {
   "cell_type": "markdown",
   "metadata": {},
   "source": [
    "+ Projemizde biz bu sayı verisini ufak bir oyuna dönüştürerek gelen veriyi biyerde saklayıp örneğin 0 verisini çizdiğimizde bu kullanıcının bilgisayar tarafından tahmin edeceği sayısı oldu.Daha sonra kullanıcının çizdiği tahmin verisi bilgisayar şu şekilde basit bir kod ile tahmin etmeye çalıştı"
   ]
  },
  {
   "cell_type": "code",
   "execution_count": null,
   "metadata": {
    "collapsed": true
   },
   "outputs": [],
   "source": [
    "while True:\n",
    "    tahminSayi=random.randint(0,9)\n",
    "\n",
    "    tahminSayi=np.str(tahminSayi)\n",
    "\n",
    "   "
   ]
  },
  {
   "cell_type": "markdown",
   "metadata": {},
   "source": [
    "+ Yukarıdaki kod bloğunda tahmin sayisini bilgisayara random 0 ila 9 arasında veri tutmasını istedik tahminSayi değişkenine ve bu değeri str cinsine dönüştürdük sebebide çizdiğimiz sonuç değişkenini arduino ile haberleştirirken str cinsinden kaldığı için bu veriyi aynı türden kıyaslamak için bu dönüşümü sağladık."
   ]
  },
  {
   "cell_type": "code",
   "execution_count": null,
   "metadata": {
    "collapsed": true
   },
   "outputs": [],
   "source": [
    " if(tahminSayi==tahmin):#tahmin sayimizi bulduk\n",
    "        time.sleep(2)\n",
    "        ser.write(bytes(data, encoding='ascii', errors='replace'))#tekrar arduino ile haberlestik ve sonucu o kisimda yazdirdik\n",
    "\n",
    "        break"
   ]
  },
  {
   "cell_type": "markdown",
   "metadata": {},
   "source": [
    "![](projeResim/resim2.jpeg)"
   ]
  },
  {
   "cell_type": "markdown",
   "metadata": {},
   "source": [
    "+ Daha sonra bu random gelen veri sürekli olarak çizdiğimiz veriye eşit olana kadar pc ye sayı ürettirdik bu sayi tahmin verisine eşit olduğunda time.sleep(2) ile biraz bekleme koyduk (sebebi ise arduino lcd ekranına gönderilcek veri bozulma gerçekleşememesi için tam olarak gitsin diye) daha sonra ise bu veriyi ser.write() ile yukarıdaki anlattığım gibi aynı şekilde yolladık yollanan veriye yine yukarıda bahsettiğim gibi ascii değerince baktık ve istenilen ascii değerine eşit olduğunda lcd ekranına buldum diyip bulunan sayı değerini yazdırdık."
   ]
  },
  {
   "cell_type": "markdown",
   "metadata": {},
   "source": [
    "# Açıklama satırları ile beraber uygulamamızın genel kodu"
   ]
  },
  {
   "cell_type": "code",
   "execution_count": null,
   "metadata": {
    "collapsed": true
   },
   "outputs": [],
   "source": [
    "from tensorflow.examples.tutorials.mnist import input_data#Resimlerin nasıl eğitileceğini bildirir. Görülen resmin ne olduğunu anlamak için kullanılır.\n",
    "import tensorflow as tf#Gerekli olan kütüphane\n",
    "import os\n",
    "import serial\n",
    "import time\n",
    "import random\n",
    "import time\n",
    "\n",
    "\n",
    "mnist = input_data.read_data_sets(\"MNIST_data/\", one_hot=True)\n",
    "import scipy.ndimage\n",
    "import numpy as np\n",
    "\n",
    "os.environ['TF_CPP_MIN_LOG_LEVEL'] = '2'  # CPU icin makine hizliligi hatasi giderme\n",
    "\n",
    "\n",
    "x = tf.placeholder(tf.float32, [None, 784])#burada x tensorflow işlemi yapılır. 784 kullanılmasının amacı 28*28 piksellik bir boyut olan matriste çalışmak içindir.placeholder fonksiyonu ile de yerleştirilir.x yer tutucu görevini görür\n",
    "\n",
    "\n",
    "W = tf.Variable(tf.zeros([784, 10])) #optimum yani gerçek değere yaklaşabilmek için kullanılır. Ağırlık olarak nitelendirelebilir.\n",
    "\n",
    "b = tf.Variable(tf.zeros([10]))#b değişkenine varsayılan sıfır değeri atamak için kullanıldı.\n",
    "\n",
    "y = tf.nn.softmax(tf.matmul(x, W) + b)#Dışardan çarpma işlemi yapar yani x ile b çarpılır. matmul tensorflow'un çarpma için kullanıldığı fonksiyondur.Matris çarpmı yapar\n",
    "\n",
    "y_ = tf.placeholder(tf.float32, [None, 10])#hatayı türev alarak düüşürülmeye çalışılır.cross_entropy düzensizlik demektir. Düzensizliği sıfıra getirene kadar kademeli düşürmesi sağlanır\n",
    "\n",
    "\n",
    "cross_entropy = tf.reduce_mean(-tf.reduce_sum(y_ * tf.log(y), reduction_indices=[1]))\n",
    "\n",
    "train_step = tf.train.GradientDescentOptimizer(0.5).minimize(cross_entropy)#adım adım verileri eğitir. Kademeli düşürme optimizasyonuna göre en uygu değeri bulmaya çalış\n",
    "\n",
    "sess = tf.InteractiveSession()#modele ulaşmak için kullanıldı. kodun sürekli çalışması istendiği için kullanılır.\n",
    "\n",
    "tf.global_variables_initializer().run()\n",
    "\n",
    "for _ in range(1000):#verileri oluşturuldu.\n",
    "    batch_xs, batch_ys = mnist.train.next_batch(100)\n",
    "    sess.run(train_step, feed_dict={x: batch_xs, y_: batch_ys})\n",
    "\n",
    "correct_prediction = tf.equal(tf.argmax(y, 1), tf.argmax(y_, 1))#doğru tahmnini almak için kullanıldı. 1-0 gibi değerler üretir\n",
    "\n",
    "accuracy = tf.reduce_mean(tf.cast(correct_prediction, tf.float32))#correct_prediction ortalaması doğruluk hesabını verir\n",
    "\n",
    "\n",
    "print(sess.run(accuracy, feed_dict={x: mnist.test.images, y_: mnist.test.labels}))#basari oranini ekrana yazdirdik\n",
    "\n",
    "cizim = np.vectorize(lambda x: 255 - x)(np.ndarray.flatten(scipy.ndimage.imread(\"sayi3.png\", flatten=True)))#cizimi aliyoruz\n",
    "\n",
    "sonuc = sess.run(tf.argmax(y, 1), feed_dict={x: [cizim]})#cizim degerini degiskenlerimize donduruyoruz\n",
    "\n",
    "\n",
    "print(sonuc)\n",
    "data=np.str(sonuc)#veriyi yollarken string olarak yollayip ascii degerine gore almak icin kullanildi\n",
    "ser = serial.Serial('COM3', 9600,timeout=0)#haberleşme 9600 portu uzerinden saglandi\n",
    "time.sleep(2)#arduino ile haberleştikten sonra biraz bekletildi(veri duzgun aktarilmasi icin)\n",
    "ser.write(bytes(data,encoding='ascii',errors='replace'))#veri arduino ile haberlesti\n",
    "ser.flush()#arduino ile baglanti kapatildi\n",
    "\n",
    "for i in data:#data verisinde deger [] geldiginden veriyi 'x' halinde almak icin kullanilan dongu\n",
    "    tahmin=data[1]#gelen veriyi bir degiskene atadik\n",
    "\n",
    "while True:\n",
    "    tahminSayi=random.randint(0,9)#random sayi tahmin ettik\n",
    "\n",
    "    tahminSayi=np.str(tahminSayi)#tahmin sayisini karsilastirma icin str ye donusturdum\n",
    "\n",
    "    if(tahminSayi==tahmin):#tahmin sayimizi bulduk\n",
    "        time.sleep(2)\n",
    "        ser.write(bytes(data, encoding='ascii', errors='replace'))#tekrar arduino ile haberlestik ve sonucu o kisimda yazdirdik\n",
    "\n",
    "        break"
   ]
  },
  {
   "cell_type": "markdown",
   "metadata": {},
   "source": [
    "# Uygulamamızda kullandığımız arduinonun kodu"
   ]
  },
  {
   "cell_type": "markdown",
   "metadata": {},
   "source": [
    "+ Python olmadığı için arduino ide platformunda yazılan kod olduğu için yorum satırı olarak bıraktım kodu"
   ]
  },
  {
   "cell_type": "code",
   "execution_count": null,
   "metadata": {
    "collapsed": false
   },
   "outputs": [],
   "source": [
    "\"\"\"#include <LiquidCrystal.h>// lcd kütühanesi \n",
    "LiquidCrystal lcd(12, 11, 5, 4, 3, 2);// lcd giriş portları\n",
    "void setup() {\n",
    "\n",
    "  lcd.begin(16, 2);// ekran tanımlaması\n",
    "  Serial.begin(9600);// port belirlenmesi\n",
    "  lcd.setCursor(0, 0);// imlecin ekrandaki güncel konumunu ayarlama\n",
    "  lcd.print(\"Tahmin Sayi=\");//ekrana ayarlanan imleçten itibaren yazı yazdırma\n",
    "  lcd.setCursor(13, 0);// imlec konumunu güncelleme\n",
    "}\n",
    "void loop() {\n",
    "\n",
    "  if (Serial.available() > 0)// veri geldimi\n",
    "  {\n",
    "    int x = Serial.read();// veriyi oku\n",
    "    if (x == 48) {//geri kalan kısım okuduktan sonra veriyi kontrol işlemleri\n",
    "      lcd.print(\"0\");\n",
    "      lcd.setCursor(0, 1);\n",
    "      delay(2000);\n",
    "      lcd.write(\"Buldum=\");\n",
    "      lcd.setCursor(8, 1);\n",
    "      lcd.write(x);\n",
    "      lcd.setCursor(10, 1);\n",
    "      lcd.write(\":)\");\n",
    "      exit(0);\n",
    "\n",
    "    }\n",
    "    else if (x == 49) {\n",
    "      lcd.print(\"1\");\n",
    "      lcd.setCursor(0, 1);\n",
    "      delay(2000);\n",
    "      lcd.write(\"Buldum=\");\n",
    "      lcd.setCursor(8, 1);\n",
    "      lcd.write(x);\n",
    "      lcd.setCursor(10, 1);\n",
    "      lcd.write(\":)\");\n",
    "      exit(0);\n",
    "    }\n",
    "    else if (x == 50) {\n",
    "      lcd.print(\"2\");\n",
    "      lcd.setCursor(0, 1);\n",
    "      delay(2000);\n",
    "      lcd.write(\"Buldum=\");\n",
    "      lcd.setCursor(8, 1);\n",
    "      lcd.write(x);\n",
    "      lcd.setCursor(10, 1);\n",
    "      lcd.write(\":)\");\n",
    "      exit(0);\n",
    "    }\n",
    "    else if (x == 51) {\n",
    "      lcd.print(\"3\");\n",
    "      lcd.setCursor(0, 1);\n",
    "      delay(2000);\n",
    "      lcd.write(\"Buldum=\");\n",
    "      lcd.setCursor(8, 1);\n",
    "      lcd.write(x);\n",
    "      lcd.setCursor(10, 1);\n",
    "      lcd.write(\":)\");\n",
    "      exit(0);\n",
    "    }\n",
    "    else if (x == 52) {\n",
    "      lcd.print(\"4\");\n",
    "      lcd.setCursor(0, 1);\n",
    "      delay(2000);\n",
    "      lcd.write(\"Buldum=\");\n",
    "      lcd.setCursor(8, 1);\n",
    "      lcd.write(x);\n",
    "      lcd.setCursor(10, 1);\n",
    "      lcd.write(\":)\");\n",
    "      exit(0);\n",
    "    }\n",
    "    else if (x == 53) {\n",
    "      lcd.print(\"5\");\n",
    "      lcd.setCursor(0, 1);\n",
    "      delay(2000);\n",
    "      lcd.write(\"Buldum=\");\n",
    "      lcd.setCursor(8, 1);\n",
    "      lcd.write(x);\n",
    "      lcd.setCursor(10, 1);\n",
    "      lcd.write(\":)\");\n",
    "      exit(0);\n",
    "    }\n",
    "    else if (x == 54) {\n",
    "      lcd.print(\"6\");\n",
    "      lcd.setCursor(0, 1);\n",
    "      delay(2000);\n",
    "      lcd.write(\"Buldum=\");\n",
    "      lcd.setCursor(8, 1);\n",
    "      lcd.write(x);\n",
    "      lcd.setCursor(10, 1);\n",
    "      lcd.write(\":)\");\n",
    "      exit(0);\n",
    "    }\n",
    "    else if (x == 55) {\n",
    "      lcd.print(\"7\");\n",
    "      lcd.setCursor(0, 1);\n",
    "      delay(2000);\n",
    "      lcd.write(\"Buldum=\");\n",
    "      lcd.setCursor(8, 1);\n",
    "      lcd.write(x);\n",
    "      lcd.setCursor(10, 1);\n",
    "      lcd.write(\":)\");\n",
    "      exit(0);\n",
    "    }\n",
    "    else if (x == 56) {\n",
    "      lcd.print(\"8\");\n",
    "      lcd.setCursor(0, 1);\n",
    "      delay(2000);\n",
    "      lcd.write(\"Buldum=\");\n",
    "      lcd.setCursor(8, 1);\n",
    "      lcd.write(x);\n",
    "      lcd.setCursor(10, 1);\n",
    "      lcd.write(\":)\");\n",
    "      exit(0);\n",
    "    }\n",
    "    else if (x == 57) {\n",
    "      lcd.print(\"9\");\n",
    "      lcd.setCursor(0, 1);\n",
    "      delay(2000);\n",
    "      lcd.write(\"Buldum=\");\n",
    "      lcd.setCursor(8, 1);\n",
    "      lcd.write(x);\n",
    "      lcd.setCursor(10, 1);\n",
    "      lcd.write(\":)\");\n",
    "      exit(0);\n",
    "    }\n",
    "  }\n",
    "}\n",
    "\"\"\""
   ]
  }
 ],
 "metadata": {
  "kernelspec": {
   "display_name": "Python 3",
   "language": "python",
   "name": "python3"
  },
  "language_info": {
   "codemirror_mode": {
    "name": "ipython",
    "version": 3
   },
   "file_extension": ".py",
   "mimetype": "text/x-python",
   "name": "python",
   "nbconvert_exporter": "python",
   "pygments_lexer": "ipython3",
   "version": "3.6.0"
  }
 },
 "nbformat": 4,
 "nbformat_minor": 2
}
